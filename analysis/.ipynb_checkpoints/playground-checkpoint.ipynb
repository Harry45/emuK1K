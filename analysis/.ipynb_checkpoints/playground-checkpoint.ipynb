{
 "cells": [
  {
   "cell_type": "code",
   "execution_count": null,
   "metadata": {},
   "outputs": [],
   "source": [
    "import numpy as np\n",
    "import astropy.io.fits as fits\n",
    "import matplotlib.pylab as plt\n",
    "import scipy.interpolate as itp\n",
    "\n",
    "# our scripts\n",
    "import inference.priors as pr\n",
    "import cosmology.redshift as cr\n",
    "import setpriors as st\n",
    "\n",
    "# matplotlib settings\n",
    "plt.rc('text', usetex=True)\n",
    "plt.rc('font',**{'family':'sans-serif','serif':['Palatino']})\n",
    "figSize  = (12, 8)\n",
    "fontSize = 20"
   ]
  },
  {
   "cell_type": "code",
   "execution_count": null,
   "metadata": {},
   "outputs": [],
   "source": [
    "import cosmology.classcompute as cc"
   ]
  },
  {
   "cell_type": "code",
   "execution_count": null,
   "metadata": {},
   "outputs": [],
   "source": [
    "testing = cc.pkclass(nz_method='som')"
   ]
  },
  {
   "cell_type": "code",
   "execution_count": null,
   "metadata": {},
   "outputs": [],
   "source": [
    "pk = testing.pk_nonlinear({'omega_cdm':0.12, 'omega_b': 0.02, 'S_8': 0.50, 'n_s': 1.0, 'h': 0.75})"
   ]
  },
  {
   "cell_type": "code",
   "execution_count": null,
   "metadata": {},
   "outputs": [],
   "source": [
    "import cosmology.weaklensing as cw"
   ]
  },
  {
   "cell_type": "code",
   "execution_count": null,
   "metadata": {},
   "outputs": [],
   "source": [
    "testing = cw.spectra(nz_method='som')"
   ]
  },
  {
   "cell_type": "code",
   "execution_count": null,
   "metadata": {},
   "outputs": [],
   "source": [
    "q = testing.pk_prediction({'omega_cdm':0.12, 'omega_b': 0.02, 'S_8': 0.50, 'n_s': 1.0, 'h': 0.75})"
   ]
  },
  {
   "cell_type": "code",
   "execution_count": null,
   "metadata": {},
   "outputs": [],
   "source": []
  },
  {
   "cell_type": "code",
   "execution_count": null,
   "metadata": {},
   "outputs": [],
   "source": [
    "a, b = testing.total_shear(cosmo, shifts, {'A_bary': 2.5, 'A_IA': 1.0})"
   ]
  },
  {
   "cell_type": "code",
   "execution_count": null,
   "metadata": {},
   "outputs": [],
   "source": [
    "b"
   ]
  },
  {
   "cell_type": "code",
   "execution_count": 1,
   "metadata": {},
   "outputs": [],
   "source": [
    "import inference.likelihood as lk"
   ]
  },
  {
   "cell_type": "code",
   "execution_count": 2,
   "metadata": {},
   "outputs": [
    {
     "name": "stdout",
     "output_type": "stream",
     "text": [
      "Masking 0 values in PeeE because they had ell or theta outside (99.5,1500.5)\n",
      "\n",
      "Did scale cuts to data and covariance.\n",
      "\n",
      "Integration performed at set nzmax=120 resolution.\n"
     ]
    }
   ],
   "source": [
    "testing = lk.sampling_dist('som', 'PeeE', True)"
   ]
  },
  {
   "cell_type": "code",
   "execution_count": 3,
   "metadata": {},
   "outputs": [
    {
     "data": {
      "text/plain": [
       "dict_keys(['scm', 'x', 'cov', 'cholesky'])"
      ]
     },
     "execution_count": 3,
     "metadata": {},
     "output_type": "execute_result"
    }
   ],
   "source": [
    "testing.data_block.keys()"
   ]
  },
  {
   "cell_type": "code",
   "execution_count": 9,
   "metadata": {},
   "outputs": [
    {
     "data": {
      "text/plain": [
       "array([[ 3.19280650e-10, -1.09450320e-11,  8.68068132e-12, ...,\n",
       "         2.30974216e-12,  2.80836036e-12,  3.39765229e-12],\n",
       "       [-1.09450320e-11,  6.61440442e-10, -1.68798635e-11, ...,\n",
       "         3.13297293e-12,  3.71602204e-12,  4.40762664e-12],\n",
       "       [ 8.68068132e-12, -1.68798635e-11,  1.22053447e-09, ...,\n",
       "         4.09521439e-12,  4.72525182e-12,  5.45647212e-12],\n",
       "       ...,\n",
       "       [ 2.30974216e-12,  3.13297293e-12,  4.09521439e-12, ...,\n",
       "         2.11592227e-09,  3.52056110e-14,  9.04916664e-11],\n",
       "       [ 2.80836036e-12,  3.71602204e-12,  4.72525182e-12, ...,\n",
       "         3.52056110e-14,  3.84300602e-09, -3.34244607e-11],\n",
       "       [ 3.39765229e-12,  4.40762664e-12,  5.45647212e-12, ...,\n",
       "         9.04916664e-11, -3.34244607e-11,  7.09767159e-09]])"
      ]
     },
     "execution_count": 9,
     "metadata": {},
     "output_type": "execute_result"
    }
   ],
   "source": [
    "testing.data_block['cov']"
   ]
  },
  {
   "cell_type": "code",
   "execution_count": 3,
   "metadata": {},
   "outputs": [
    {
     "data": {
      "text/plain": [
       "array([1.00000000e+00, 1.20679264e+00, 1.45634848e+00, 1.75751062e+00,\n",
       "       2.12095089e+00, 2.55954792e+00, 3.08884360e+00, 3.72759372e+00,\n",
       "       4.49843267e+00, 5.42867544e+00, 6.55128557e+00, 7.90604321e+00,\n",
       "       9.54095476e+00, 1.15139540e+01, 1.38949549e+01, 1.67683294e+01,\n",
       "       2.02358965e+01, 2.44205309e+01, 2.94705170e+01, 3.55648031e+01,\n",
       "       4.29193426e+01, 5.17947468e+01, 6.25055193e+01, 7.54312006e+01,\n",
       "       9.10298178e+01, 1.09854114e+02, 1.32571137e+02, 1.59985872e+02,\n",
       "       1.93069773e+02, 2.32995181e+02, 2.81176870e+02, 3.39322177e+02,\n",
       "       4.09491506e+02, 4.94171336e+02, 5.96362332e+02, 7.19685673e+02,\n",
       "       8.68511374e+02, 1.04811313e+03, 1.26485522e+03, 1.52641797e+03,\n",
       "       1.84206997e+03, 2.22299648e+03, 2.68269580e+03, 3.23745754e+03,\n",
       "       3.90693994e+03, 4.71486636e+03, 5.68986603e+03, 6.86648845e+03,\n",
       "       8.28642773e+03, 1.00000000e+04])"
      ]
     },
     "execution_count": 3,
     "metadata": {},
     "output_type": "execute_result"
    }
   ],
   "source": [
    "testing.lensing_kernel"
   ]
  },
  {
   "cell_type": "code",
   "execution_count": null,
   "metadata": {},
   "outputs": [],
   "source": [
    "# vec = testing.bp_theory_calc(cosmo, shifts, {'A_bary': 2.5, 'A_IA': 1.0})"
   ]
  },
  {
   "cell_type": "code",
   "execution_count": null,
   "metadata": {},
   "outputs": [],
   "source": [
    "# 67.1939\n",
    "\n",
    "# 1.157000e-01\n",
    "# 8.128000e-01\n",
    "# 2.250000e-02\n",
    "# 9.690000e-01\n",
    "# 6.898000e-01\n",
    "\n",
    "# 1.381671e+00\n",
    "# 2.483308e+00\n",
    "\n",
    "# -1.261194e-03\n",
    "# 1.051820e-03\n",
    "# 1.212316e-02\n",
    "# 1.068603e-02\n",
    "# -5.386527e-03\n",
    "\n",
    "# data.parameters['D_z1'] = [ 0.000,\t-0.1, 0.1, 0.001, 1, 'nuisance']\n",
    "# data.parameters['D_z2'] = [ 0.002,  -0.1, 0.1, 0.001, 1, 'nuisance']\n",
    "# data.parameters['D_z3'] = [ 0.013,  -0.1, 0.1, 0.001, 1, 'nuisance']\n",
    "# data.parameters['D_z4'] = [ 0.011,  -0.1, 0.1, 0.001, 1, 'nuisance']\n",
    "# data.parameters['D_z5'] = [ -0.006, -0.1, 0.1, 0.001, 1, 'nuisance']\n",
    "\n",
    "# data.parameters['A_IA']  = [1.0,\t   -6.0,    6.0,    1.0,    1, 'nuisance']\n",
    "# data.parameters['A_bary'] = [2.5, 2., 3.13, 0.2, 1, 'nuisance']\n",
    "\n",
    "# data.parameters['omega_cdm']    = [0.1157,   0.051,  0.255,     0.0027,    1, 'cosmo']\n",
    "# data.parameters['S_8']          = [0.8128,   0.1,    1.3,       0.0029,    1, 'cosmo']\n",
    "# data.parameters['omega_b']      = [0.0225,   0.019,  0.026,     0.028,     1, 'cosmo']\n",
    "# data.parameters['n_s']          = [0.969,    0.84,   1.1,       0.0074,    1, 'cosmo']\n",
    "# data.parameters['h']            = [0.6898,   0.64,   0.82,      0.0065,    1, 'cosmo']"
   ]
  },
  {
   "cell_type": "code",
   "execution_count": null,
   "metadata": {},
   "outputs": [],
   "source": [
    "0.10802979609861982\n",
    "0.02332493567194329\n",
    "0.815371910192108\n",
    "0.9704551766630282\n",
    "0.6887657808123486\n"
   ]
  },
  {
   "cell_type": "code",
   "execution_count": null,
   "metadata": {},
   "outputs": [],
   "source": [
    "cosmo = {'omega_cdm':0.10802979609861982, 'omega_b': 0.02332493567194329, 'S_8': 0.815371910192108, 'n_s': 0.9704551766630282, 'h': 0.6887657808123486}\n",
    "shifts = {'d1': 0.0, 'd2': 0.002, 'd3': 0.013, 'd4': 0.011, 'd5': -0.006}\n",
    "nuisa = {'A_bary': 2.5, 'A_IA': 1.0}\n",
    "\n",
    "# -1.511548e-03\t2.758758e-03\t1.381240e-02\t1.073510e-02\t-6.209658e-03"
   ]
  },
  {
   "cell_type": "code",
   "execution_count": null,
   "metadata": {},
   "outputs": [],
   "source": [
    "# 0.0497372806894158\n",
    "# 0.04996890061576648\n",
    "# 0.04998262344982991\n",
    "# 0.04999120625746102\n",
    "# 0.050000263627779526\n",
    "\n",
    "# 0.0497372806894158\n",
    "# 0.04996890061576648\n",
    "# 0.04998262344982991\n",
    "# 0.04999120625746102\n",
    "# 0.050000263627779526"
   ]
  },
  {
   "cell_type": "code",
   "execution_count": null,
   "metadata": {},
   "outputs": [],
   "source": [
    "testing.loglike(cosmo, shifts, nuisa)"
   ]
  },
  {
   "cell_type": "markdown",
   "metadata": {},
   "source": [
    "### Test MontePython"
   ]
  },
  {
   "cell_type": "code",
   "execution_count": 1,
   "metadata": {},
   "outputs": [],
   "source": [
    "import inference.sampling as sp\n",
    "import numpy as np"
   ]
  },
  {
   "cell_type": "code",
   "execution_count": 2,
   "metadata": {},
   "outputs": [],
   "source": [
    "directory = '/home/harry/Desktop/MontePython-V3.4/chains/K1K-15/'"
   ]
  },
  {
   "cell_type": "code",
   "execution_count": 3,
   "metadata": {},
   "outputs": [],
   "source": [
    "samps = np.loadtxt(directory + '2021-04-24_200000__1.txt')"
   ]
  },
  {
   "cell_type": "code",
   "execution_count": 4,
   "metadata": {},
   "outputs": [],
   "source": [
    "# parameter names (cosmology)\n",
    "cosmo_names = ['omega_cdm', 'omega_b', 'S_8', 'n_s', 'h']\n",
    "\n",
    "# names for the nuisance parameters\n",
    "nuisance_names = ['A_bary', 'A_IA']\n",
    "\n",
    "# the calculation of the log-pdf takes in a dictionary\n",
    "# hence we split the vector into the different elements\n",
    "shifts_names = ['D_z1', 'D_z2', 'D_z3', 'D_z4', 'D_z5']\n",
    "\n",
    "# all the parameter names\n",
    "marg_names = cosmo_names + shifts_names + nuisance_names"
   ]
  },
  {
   "cell_type": "code",
   "execution_count": 5,
   "metadata": {},
   "outputs": [],
   "source": [
    "mp_cols = ['n', 'minus-logL','omega_cdm', 'S_8', 'omega_b', 'n_s', 'h', \n",
    "           'A_IA', 'A_bary', 'D_z1', 'D_z2', 'D_z3', 'D_z4', 'D_z5', 'Omega_m', 'sigma8']"
   ]
  },
  {
   "cell_type": "code",
   "execution_count": 6,
   "metadata": {},
   "outputs": [],
   "source": [
    "import pandas as pd"
   ]
  },
  {
   "cell_type": "code",
   "execution_count": 7,
   "metadata": {},
   "outputs": [],
   "source": [
    "df = pd.DataFrame(samps, columns=mp_cols)"
   ]
  },
  {
   "cell_type": "code",
   "execution_count": 8,
   "metadata": {},
   "outputs": [],
   "source": [
    "selected = df[marg_names]"
   ]
  },
  {
   "cell_type": "code",
   "execution_count": 9,
   "metadata": {},
   "outputs": [
    {
     "name": "stdout",
     "output_type": "stream",
     "text": [
      "Masking 0 values in PeeE because they had ell or theta outside (99.5,1500.5)\n",
      "\n",
      "Did scale cuts to data and covariance.\n",
      "\n",
      "Integration performed at set nzmax=120 resolution.\n"
     ]
    }
   ],
   "source": [
    "test = sp.mcmc('som', 'PeeE', True)"
   ]
  },
  {
   "cell_type": "code",
   "execution_count": 11,
   "metadata": {},
   "outputs": [],
   "source": [
    "N = 100\n",
    "rec = []\n",
    "for i in range(N):\n",
    "    rec.append(test.logliketest(selected.iloc[i].values))"
   ]
  },
  {
   "cell_type": "code",
   "execution_count": 19,
   "metadata": {},
   "outputs": [],
   "source": [
    "import matplotlib.pylab as plt\n",
    "plt.rc('text', usetex=True)\n",
    "plt.rc('font',**{'family':'sans-serif','serif':['Palatino']})\n",
    "fontSize = 20"
   ]
  },
  {
   "cell_type": "code",
   "execution_count": 20,
   "metadata": {},
   "outputs": [],
   "source": [
    "xrange = np.linspace(min(samps[:,1][0:N])-1, max(samps[:,1][0:N])+1, 1000)"
   ]
  },
  {
   "cell_type": "code",
   "execution_count": 24,
   "metadata": {},
   "outputs": [
    {
     "data": {
      "image/png": "[encoded data removed]",
      "text/plain": [
       "<Figure size 576x576 with 1 Axes>"
      ]
     },
     "metadata": {
      "needs_background": "light"
     },
     "output_type": "display_data"
    }
   ],
   "source": [
    "plt.figure(figsize = (8,8))\n",
    "plt.scatter(samps[:,1][0:N], -1*np.array(rec), s=80, facecolors='none', edgecolors='r')\n",
    "plt.plot(xrange, xrange, linestyle = '--', lw = 2)\n",
    "plt.ylabel(r'$-\\mathcal{L}_{\\textrm{emcee}}$', fontsize = fontSize)\n",
    "plt.xlabel(r'$-\\mathcal{L}_{\\textrm{MontePython}}$', fontsize = fontSize)\n",
    "plt.tick_params(axis='x', labelsize=fontSize)\n",
    "plt.tick_params(axis='y', labelsize=fontSize)\n",
    "plt.xlim(min(xrange), max(xrange))\n",
    "plt.ylim(min(xrange), max(xrange))\n",
    "# plt.savefig('plots/test_likelihood.pdf', transparent = False, bbox_inches = 'tight')   \n",
    "plt.show()"
   ]
  },
  {
   "cell_type": "code",
   "execution_count": null,
   "metadata": {},
   "outputs": [],
   "source": []
  },
  {
   "cell_type": "code",
   "execution_count": null,
   "metadata": {},
   "outputs": [],
   "source": []
  },
  {
   "cell_type": "code",
   "execution_count": 4,
   "metadata": {},
   "outputs": [
    {
     "data": {
      "text/plain": [
       "-58.254587779599"
      ]
     },
     "execution_count": 4,
     "metadata": {},
     "output_type": "execute_result"
    }
   ],
   "source": [
    "test.logpost(d)"
   ]
  },
  {
   "cell_type": "markdown",
   "metadata": {},
   "source": [
    "### Redshift Distributions"
   ]
  },
  {
   "cell_type": "code",
   "execution_count": null,
   "metadata": {},
   "outputs": [],
   "source": [
    "nzdist = ir.nzDist(technique='SOM')"
   ]
  },
  {
   "cell_type": "code",
   "execution_count": null,
   "metadata": {},
   "outputs": [],
   "source": [
    "nz, area = nzdist.shift_som(1E-3*np.random.randn(5))"
   ]
  },
  {
   "cell_type": "markdown",
   "metadata": {},
   "source": [
    "### Some Functions"
   ]
  },
  {
   "cell_type": "code",
   "execution_count": null,
   "metadata": {},
   "outputs": [],
   "source": [
    "def interpolate(inputs: list) -> np.ndarray:\n",
    "    '''\n",
    "    Function to interpolate the power spectrum along the redshift axis\n",
    "\n",
    "    :param: inputs (list or tuple) : x values, y values and new values of x\n",
    "\n",
    "    :return: ynew (np.ndarray) : an array of the interpolated power spectra\n",
    "    '''\n",
    "\n",
    "    x, y, xnew = inputs[0], inputs[1], inputs[2]\n",
    "\n",
    "    spline = itp.splrep(x, y)\n",
    "\n",
    "    ynew = itp.splev(xnew, spline)\n",
    "\n",
    "    return ynew\n"
   ]
  },
  {
   "cell_type": "markdown",
   "metadata": {},
   "source": [
    "# KiDS-1000 data"
   ]
  },
  {
   "cell_type": "code",
   "execution_count": null,
   "metadata": {},
   "outputs": [],
   "source": [
    "data = fits.open('data/kids_1000.fits')"
   ]
  },
  {
   "cell_type": "markdown",
   "metadata": {},
   "source": [
    "### $n(z)$ Distributions"
   ]
  },
  {
   "cell_type": "code",
   "execution_count": null,
   "metadata": {},
   "outputs": [],
   "source": [
    "nofz = data['NZ_SOURCE'].data"
   ]
  },
  {
   "cell_type": "code",
   "execution_count": null,
   "metadata": {},
   "outputs": [],
   "source": [
    "z = np.concatenate((np.zeros(1), nofz['Z_MID']))\n",
    "znew = np.linspace(min(z), max(z), 1000)"
   ]
  },
  {
   "cell_type": "code",
   "execution_count": null,
   "metadata": {},
   "outputs": [],
   "source": [
    "z.shape"
   ]
  },
  {
   "cell_type": "code",
   "execution_count": null,
   "metadata": {},
   "outputs": [],
   "source": [
    "plt.figure(figsize = figSize)\n",
    "plt.title('Self-Organising Map (SOM) Method', fontsize=fontSize)\n",
    "for i in range(1,6,1):\n",
    "    height = np.concatenate((np.zeros(1), nofz['BIN'+str(i)]))\n",
    "    plt.plot(znew, interpolate([z, height, znew]), lw = 2, label = 'Bin '+str(i))\n",
    "plt.ylabel(r'$p(z)$', fontsize = fontSize)\n",
    "plt.xlabel(r'$z$', fontsize = fontSize)\n",
    "plt.tick_params(axis='x', labelsize=fontSize)\n",
    "plt.tick_params(axis='y', labelsize=fontSize)\n",
    "plt.legend(loc = 'best',prop={'family':'sans-serif', 'size':15})\n",
    "plt.ylim(0.0, 0.30)\n",
    "plt.xlim(0.0, 6.0)\n",
    "plt.show()"
   ]
  },
  {
   "cell_type": "markdown",
   "metadata": {},
   "source": [
    "### Band Powers\n",
    "\n",
    "To do - can be plotted once the data vector and covariance have been generated from the likelihood code."
   ]
  },
  {
   "cell_type": "markdown",
   "metadata": {},
   "source": [
    "### Priors"
   ]
  },
  {
   "cell_type": "code",
   "execution_count": null,
   "metadata": {},
   "outputs": [],
   "source": [
    "cosmo = pr.all_entities(st.cosmo)"
   ]
  },
  {
   "cell_type": "code",
   "execution_count": null,
   "metadata": {},
   "outputs": [],
   "source": [
    "nuisance = pr.all_entities(st.nuisance)"
   ]
  },
  {
   "cell_type": "code",
   "execution_count": null,
   "metadata": {},
   "outputs": [],
   "source": [
    "dz = pr.all_entities(st.shifts)"
   ]
  },
  {
   "cell_type": "code",
   "execution_count": null,
   "metadata": {},
   "outputs": [],
   "source": [
    "test = {'omega_cdm':0.10, 'omega_b': 0.022, 'S_8': 0.5, 'n_s': 0.95, 'h':0.70}\n",
    "pr.log_prod_pdf(cosmo, test)"
   ]
  },
  {
   "cell_type": "code",
   "execution_count": null,
   "metadata": {},
   "outputs": [],
   "source": [
    "test = {'A_bary':3.10, 'A_IA': 1.0}\n",
    "pr.log_prod_pdf(nuisance, test)"
   ]
  },
  {
   "cell_type": "code",
   "execution_count": null,
   "metadata": {},
   "outputs": [],
   "source": [
    "test = {'d1': -0.01088444, 'd2': -0.01037312,  'd3': 0.01095214,  'd4': 0.02314239, 'd5': -0.02079997}\n",
    "pr.log_prod_pdf(dz, test)"
   ]
  },
  {
   "cell_type": "markdown",
   "metadata": {},
   "source": [
    "### Sampling"
   ]
  },
  {
   "cell_type": "code",
   "execution_count": null,
   "metadata": {},
   "outputs": [],
   "source": [
    "import inference.sampling as sm"
   ]
  },
  {
   "cell_type": "code",
   "execution_count": null,
   "metadata": {},
   "outputs": [],
   "source": [
    "test = sm.mcmc('som', 'PeeE', True)"
   ]
  },
  {
   "cell_type": "code",
   "execution_count": null,
   "metadata": {},
   "outputs": [],
   "source": [
    "sampler = test.posterior_sampling('testing')"
   ]
  },
  {
   "cell_type": "markdown",
   "metadata": {},
   "source": [
    "### Load Samples"
   ]
  },
  {
   "cell_type": "code",
   "execution_count": null,
   "metadata": {},
   "outputs": [],
   "source": [
    "import utils.helpers as hp\n",
    "import numpy as np"
   ]
  },
  {
   "cell_type": "code",
   "execution_count": null,
   "metadata": {},
   "outputs": [],
   "source": [
    "test = hp.load_pkl_file('samples', 'testing')# chain_24_15000"
   ]
  },
  {
   "cell_type": "code",
   "execution_count": null,
   "metadata": {},
   "outputs": [],
   "source": [
    "test.acceptance_fraction"
   ]
  },
  {
   "cell_type": "code",
   "execution_count": null,
   "metadata": {},
   "outputs": [],
   "source": [
    "lnp = test.flatlnprobability"
   ]
  },
  {
   "cell_type": "code",
   "execution_count": null,
   "metadata": {},
   "outputs": [],
   "source": [
    "idx = np.isfinite(lnp)#lnp!=-1E32"
   ]
  },
  {
   "cell_type": "code",
   "execution_count": null,
   "metadata": {},
   "outputs": [],
   "source": [
    "lnp[idx].shape"
   ]
  },
  {
   "cell_type": "code",
   "execution_count": null,
   "metadata": {},
   "outputs": [],
   "source": [
    "import matplotlib.pylab as plt"
   ]
  },
  {
   "cell_type": "code",
   "execution_count": null,
   "metadata": {},
   "outputs": [],
   "source": [
    "for i in range(12):\n",
    "    # print(np.std(test.flatchain[idx][:,i]))\n",
    "#     plt.figure()\n",
    "#     plt.hist(test.flatchain[idx][:,i])\n",
    "#     plt.show()"
   ]
  },
  {
   "cell_type": "code",
   "execution_count": null,
   "metadata": {},
   "outputs": [],
   "source": []
  }
 ],
 "metadata": {
  "kernelspec": {
   "display_name": "Python 3",
   "language": "python",
   "name": "python3"
  },
  "language_info": {
   "codemirror_mode": {
    "name": "ipython",
    "version": 3
   },
   "file_extension": ".py",
   "mimetype": "text/x-python",
   "name": "python",
   "nbconvert_exporter": "python",
   "pygments_lexer": "ipython3",
   "version": "3.7.6"
  }
 },
 "nbformat": 4,
 "nbformat_minor": 4
}
